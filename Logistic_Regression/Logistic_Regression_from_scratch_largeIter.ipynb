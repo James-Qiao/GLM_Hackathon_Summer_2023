{
 "cells": [
  {
   "attachments": {},
   "cell_type": "markdown",
   "metadata": {},
   "source": [
    "# Implemrnting Logistic Regression from Scratch"
   ]
  },
  {
   "attachments": {},
   "cell_type": "markdown",
   "metadata": {},
   "source": [
    "Import libraries"
   ]
  },
  {
   "cell_type": "code",
   "execution_count": 2,
   "metadata": {},
   "outputs": [],
   "source": [
    "import numpy as np\n",
    "import pandas as pd\n",
    "import matplotlib.pyplot as plt\n",
    "from sklearn.metrics import log_loss"
   ]
  },
  {
   "attachments": {},
   "cell_type": "markdown",
   "metadata": {},
   "source": [
    "## Function Implementation"
   ]
  },
  {
   "cell_type": "code",
   "execution_count": 3,
   "metadata": {},
   "outputs": [],
   "source": [
    "def add_const(X: pd.DataFrame):\n",
    "    X['const'] = 1\n",
    "    return X\n",
    "\n",
    "def predict(parameters, X):\n",
    "    y_pred = sigmoid(np.dot(X, parameters))\n",
    "    return y_pred\n",
    "\n",
    "def LL(model, parameters):\n",
    "    y_pred = sigmoid(np.dot(model.X, parameters))\n",
    "    log_l = model.Y * np.log(y_pred) + (1 - model.Y) * np.log(1 - y_pred)\n",
    "    return np.sum(log_l)\n",
    "\n",
    "def gradient_descent(model, n_iter, learning_rate):\n",
    "    parameters = np.array(model.params)\n",
    "    LL_record = np.ones(n_iter)\n",
    "    for i in range(n_iter):\n",
    "        Y_pred = sigmoid(np.dot(model.X, parameters))\n",
    "        gradient = np.dot(model.X.T, (model.Y - Y_pred))\n",
    "        parameters += learning_rate * gradient\n",
    "        LL_record[i] = LL(model, parameters)\n",
    "    return parameters, LL_record\n",
    "\n",
    "class Logistic_Reg():\n",
    "    def __init__(self, X, Y):\n",
    "        self.X = X\n",
    "        self.Y = Y\n",
    "        self.params = np.zeros((X.shape[1]), dtype=float)\n",
    "        # self.params = np.random.normal(size=X.shape[1], scale=0.1)\n",
    "        \n",
    "        # from sklearn.linear_model import LogisticRegression\n",
    "        # model_sk = LogisticRegression().fit(X[:,:-1], Y)\n",
    "        # self.params = np.append(model_sk.coef_, model_sk.intercept_)\n",
    "\n",
    "    def fit(self, n_iter=10000, learning_rate=0.0000001):\n",
    "        # n_iter = 10000\n",
    "        # learning_rate = 0.0000001\n",
    "        # learning_rate = 0.0000003\n",
    "        self.params, LL_record = gradient_descent(self, n_iter, learning_rate)\n",
    "        return self, LL_record\n",
    "\n",
    "    def pred(self):\n",
    "        Y_pred = predict(self.params, self.X)\n",
    "        return Y_pred"
   ]
  },
  {
   "cell_type": "code",
   "execution_count": 4,
   "metadata": {},
   "outputs": [],
   "source": [
    "#log_l = model.Y * y_pred - np.log(1 + np.exp(y_pred))\n",
    "# n_iter = 10k, lr = 0.0000001"
   ]
  },
  {
   "attachments": {},
   "cell_type": "markdown",
   "metadata": {},
   "source": [
    "Load Data"
   ]
  },
  {
   "cell_type": "code",
   "execution_count": 5,
   "metadata": {},
   "outputs": [],
   "source": [
    "# dat_dir = './'\n",
    "\n",
    "github_url = 'https://raw.githubusercontent.com/huangyh09/foundation-data-science/'\n",
    "dat_dir = github_url + 'main/assignments/'\n",
    "\n",
    "df_lr = pd.read_csv(dat_dir + \"stroke_data.csv\", index_col=0)"
   ]
  },
  {
   "cell_type": "code",
   "execution_count": 6,
   "metadata": {},
   "outputs": [
    {
     "data": {
      "text/html": [
       "<div>\n",
       "<style scoped>\n",
       "    .dataframe tbody tr th:only-of-type {\n",
       "        vertical-align: middle;\n",
       "    }\n",
       "\n",
       "    .dataframe tbody tr th {\n",
       "        vertical-align: top;\n",
       "    }\n",
       "\n",
       "    .dataframe thead th {\n",
       "        text-align: right;\n",
       "    }\n",
       "</style>\n",
       "<table border=\"1\" class=\"dataframe\">\n",
       "  <thead>\n",
       "    <tr style=\"text-align: right;\">\n",
       "      <th></th>\n",
       "      <th>is_female</th>\n",
       "      <th>age</th>\n",
       "      <th>hypertension</th>\n",
       "      <th>heart_disease</th>\n",
       "      <th>ever_married</th>\n",
       "      <th>Rural_residence</th>\n",
       "      <th>avg_glucose_level</th>\n",
       "      <th>bmi</th>\n",
       "      <th>smoking</th>\n",
       "      <th>stroke</th>\n",
       "    </tr>\n",
       "    <tr>\n",
       "      <th>id</th>\n",
       "      <th></th>\n",
       "      <th></th>\n",
       "      <th></th>\n",
       "      <th></th>\n",
       "      <th></th>\n",
       "      <th></th>\n",
       "      <th></th>\n",
       "      <th></th>\n",
       "      <th></th>\n",
       "      <th></th>\n",
       "    </tr>\n",
       "  </thead>\n",
       "  <tbody>\n",
       "    <tr>\n",
       "      <th>24201</th>\n",
       "      <td>0</td>\n",
       "      <td>33.0</td>\n",
       "      <td>0</td>\n",
       "      <td>0</td>\n",
       "      <td>1</td>\n",
       "      <td>1</td>\n",
       "      <td>93.80</td>\n",
       "      <td>23.9</td>\n",
       "      <td>0</td>\n",
       "      <td>0</td>\n",
       "    </tr>\n",
       "    <tr>\n",
       "      <th>70031</th>\n",
       "      <td>1</td>\n",
       "      <td>71.0</td>\n",
       "      <td>1</td>\n",
       "      <td>0</td>\n",
       "      <td>1</td>\n",
       "      <td>1</td>\n",
       "      <td>195.25</td>\n",
       "      <td>33.3</td>\n",
       "      <td>0</td>\n",
       "      <td>0</td>\n",
       "    </tr>\n",
       "    <tr>\n",
       "      <th>17013</th>\n",
       "      <td>0</td>\n",
       "      <td>78.0</td>\n",
       "      <td>1</td>\n",
       "      <td>0</td>\n",
       "      <td>0</td>\n",
       "      <td>0</td>\n",
       "      <td>113.01</td>\n",
       "      <td>24.0</td>\n",
       "      <td>0</td>\n",
       "      <td>1</td>\n",
       "    </tr>\n",
       "    <tr>\n",
       "      <th>67890</th>\n",
       "      <td>0</td>\n",
       "      <td>77.0</td>\n",
       "      <td>0</td>\n",
       "      <td>1</td>\n",
       "      <td>1</td>\n",
       "      <td>0</td>\n",
       "      <td>102.96</td>\n",
       "      <td>20.9</td>\n",
       "      <td>0</td>\n",
       "      <td>0</td>\n",
       "    </tr>\n",
       "    <tr>\n",
       "      <th>38078</th>\n",
       "      <td>1</td>\n",
       "      <td>82.0</td>\n",
       "      <td>1</td>\n",
       "      <td>1</td>\n",
       "      <td>1</td>\n",
       "      <td>0</td>\n",
       "      <td>73.19</td>\n",
       "      <td>33.5</td>\n",
       "      <td>0</td>\n",
       "      <td>0</td>\n",
       "    </tr>\n",
       "  </tbody>\n",
       "</table>\n",
       "</div>"
      ],
      "text/plain": [
       "       is_female   age  hypertension  heart_disease  ever_married  \\\n",
       "id                                                                  \n",
       "24201          0  33.0             0              0             1   \n",
       "70031          1  71.0             1              0             1   \n",
       "17013          0  78.0             1              0             0   \n",
       "67890          0  77.0             0              1             1   \n",
       "38078          1  82.0             1              1             1   \n",
       "\n",
       "       Rural_residence  avg_glucose_level   bmi  smoking  stroke  \n",
       "id                                                                \n",
       "24201                1              93.80  23.9        0       0  \n",
       "70031                1             195.25  33.3        0       0  \n",
       "17013                0             113.01  24.0        0       1  \n",
       "67890                0             102.96  20.9        0       0  \n",
       "38078                0              73.19  33.5        0       0  "
      ]
     },
     "execution_count": 6,
     "metadata": {},
     "output_type": "execute_result"
    }
   ],
   "source": [
    "df_lr.head()"
   ]
  },
  {
   "cell_type": "code",
   "execution_count": 7,
   "metadata": {},
   "outputs": [],
   "source": [
    "X = df_lr[df_lr.columns[:-1]]\n",
    "Y = df_lr[df_lr.columns[-1]]"
   ]
  },
  {
   "cell_type": "code",
   "execution_count": 8,
   "metadata": {},
   "outputs": [
    {
     "name": "stdout",
     "output_type": "stream",
     "text": [
      "[  105.   12250.      57.      36.     160.      86.   24618.62  5517.3\n",
      "    39.  ]\n",
      "12250.0\n"
     ]
    }
   ],
   "source": [
    "print(np.dot(X.T, Y))\n",
    "print(np.dot(X.iloc[:, 1].T, Y))"
   ]
  },
  {
   "cell_type": "code",
   "execution_count": 9,
   "metadata": {},
   "outputs": [
    {
     "data": {
      "text/html": [
       "<div>\n",
       "<style scoped>\n",
       "    .dataframe tbody tr th:only-of-type {\n",
       "        vertical-align: middle;\n",
       "    }\n",
       "\n",
       "    .dataframe tbody tr th {\n",
       "        vertical-align: top;\n",
       "    }\n",
       "\n",
       "    .dataframe thead th {\n",
       "        text-align: right;\n",
       "    }\n",
       "</style>\n",
       "<table border=\"1\" class=\"dataframe\">\n",
       "  <thead>\n",
       "    <tr style=\"text-align: right;\">\n",
       "      <th></th>\n",
       "      <th>is_female</th>\n",
       "      <th>age</th>\n",
       "      <th>hypertension</th>\n",
       "      <th>heart_disease</th>\n",
       "      <th>ever_married</th>\n",
       "      <th>Rural_residence</th>\n",
       "      <th>avg_glucose_level</th>\n",
       "      <th>bmi</th>\n",
       "      <th>smoking</th>\n",
       "      <th>const</th>\n",
       "    </tr>\n",
       "    <tr>\n",
       "      <th>id</th>\n",
       "      <th></th>\n",
       "      <th></th>\n",
       "      <th></th>\n",
       "      <th></th>\n",
       "      <th></th>\n",
       "      <th></th>\n",
       "      <th></th>\n",
       "      <th></th>\n",
       "      <th></th>\n",
       "      <th></th>\n",
       "    </tr>\n",
       "  </thead>\n",
       "  <tbody>\n",
       "    <tr>\n",
       "      <th>24201</th>\n",
       "      <td>0</td>\n",
       "      <td>33.0</td>\n",
       "      <td>0</td>\n",
       "      <td>0</td>\n",
       "      <td>1</td>\n",
       "      <td>1</td>\n",
       "      <td>93.80</td>\n",
       "      <td>23.9</td>\n",
       "      <td>0</td>\n",
       "      <td>1</td>\n",
       "    </tr>\n",
       "    <tr>\n",
       "      <th>70031</th>\n",
       "      <td>1</td>\n",
       "      <td>71.0</td>\n",
       "      <td>1</td>\n",
       "      <td>0</td>\n",
       "      <td>1</td>\n",
       "      <td>1</td>\n",
       "      <td>195.25</td>\n",
       "      <td>33.3</td>\n",
       "      <td>0</td>\n",
       "      <td>1</td>\n",
       "    </tr>\n",
       "    <tr>\n",
       "      <th>17013</th>\n",
       "      <td>0</td>\n",
       "      <td>78.0</td>\n",
       "      <td>1</td>\n",
       "      <td>0</td>\n",
       "      <td>0</td>\n",
       "      <td>0</td>\n",
       "      <td>113.01</td>\n",
       "      <td>24.0</td>\n",
       "      <td>0</td>\n",
       "      <td>1</td>\n",
       "    </tr>\n",
       "    <tr>\n",
       "      <th>67890</th>\n",
       "      <td>0</td>\n",
       "      <td>77.0</td>\n",
       "      <td>0</td>\n",
       "      <td>1</td>\n",
       "      <td>1</td>\n",
       "      <td>0</td>\n",
       "      <td>102.96</td>\n",
       "      <td>20.9</td>\n",
       "      <td>0</td>\n",
       "      <td>1</td>\n",
       "    </tr>\n",
       "    <tr>\n",
       "      <th>38078</th>\n",
       "      <td>1</td>\n",
       "      <td>82.0</td>\n",
       "      <td>1</td>\n",
       "      <td>1</td>\n",
       "      <td>1</td>\n",
       "      <td>0</td>\n",
       "      <td>73.19</td>\n",
       "      <td>33.5</td>\n",
       "      <td>0</td>\n",
       "      <td>1</td>\n",
       "    </tr>\n",
       "  </tbody>\n",
       "</table>\n",
       "</div>"
      ],
      "text/plain": [
       "       is_female   age  hypertension  heart_disease  ever_married  \\\n",
       "id                                                                  \n",
       "24201          0  33.0             0              0             1   \n",
       "70031          1  71.0             1              0             1   \n",
       "17013          0  78.0             1              0             0   \n",
       "67890          0  77.0             0              1             1   \n",
       "38078          1  82.0             1              1             1   \n",
       "\n",
       "       Rural_residence  avg_glucose_level   bmi  smoking  const  \n",
       "id                                                               \n",
       "24201                1              93.80  23.9        0      1  \n",
       "70031                1             195.25  33.3        0      1  \n",
       "17013                0             113.01  24.0        0      1  \n",
       "67890                0             102.96  20.9        0      1  \n",
       "38078                0              73.19  33.5        0      1  "
      ]
     },
     "execution_count": 9,
     "metadata": {},
     "output_type": "execute_result"
    }
   ],
   "source": [
    "X = add_const(X)\n",
    "model_t = Logistic_Reg(X.values, Y.values)\n",
    "X.head()"
   ]
  },
  {
   "cell_type": "code",
   "execution_count": 10,
   "metadata": {},
   "outputs": [
    {
     "name": "stdout",
     "output_type": "stream",
     "text": [
      "[ 1.21339755e-01  7.59120872e-02  4.02132804e-01  3.14247995e-01\n",
      " -2.91553630e-01  2.31303662e-02  4.40506612e-03  9.28293219e-03\n",
      "  5.29407935e-01 -6.88034684e+00]\n",
      "[-740.03427654 -533.37902086 -530.85960586 -528.42683943 -526.07601642\n",
      " -523.80323938 -521.6044375  -519.47623027 -517.41508488 -515.41806262] [-357.3474909 -357.3474909 -357.3474909 -357.3474909 -357.3474909\n",
      " -357.3474909 -357.3474909 -357.3474909 -357.3474909 -357.3474909]\n"
     ]
    }
   ],
   "source": [
    "# model_t, log_likelihood_record = model_t.fit(n_iter=1000, learning_rate=0.0000001)\n",
    "# model_t, log_likelihood_record = model_t.fit(n_iter=1000, learning_rate=0.0000003)\n",
    "model_t, log_likelihood_record = model_t.fit(n_iter=5000000, learning_rate=0.0000007)\n",
    "\n",
    "\n",
    "print(model_t.params)\n",
    "print(log_likelihood_record[:10], log_likelihood_record[-10:])"
   ]
  },
  {
   "cell_type": "code",
   "execution_count": 11,
   "metadata": {},
   "outputs": [],
   "source": [
    "write_path = 'write'"
   ]
  },
  {
   "cell_type": "code",
   "execution_count": 12,
   "metadata": {},
   "outputs": [
    {
     "data": {
      "image/png": "[encoded data removed]",
      "text/plain": [
       "<Figure size 640x480 with 1 Axes>"
      ]
     },
     "metadata": {},
     "output_type": "display_data"
    }
   ],
   "source": [
    "# plot log_likelihood_record and LL_sk\n",
    "LL_sk = - 357.35\n",
    "plt.scatter(np.arange(5000000), log_likelihood_record)\n",
    "plt.axhline(y=LL_sk, color='r', linestyle='-')\n",
    "plt.xlabel('iteration')\n",
    "plt.ylabel('log likelihood')\n",
    "plt.title('Log Likelihood vs. Iteration')\n",
    "plt.legend(['Log likelihood record', 'Log likelihood of sklearn'])\n",
    "plt.savefig(write_path + '/LL_large_iter.png')\n",
    "plt.show()"
   ]
  },
  {
   "cell_type": "code",
   "execution_count": 13,
   "metadata": {},
   "outputs": [
    {
     "name": "stdout",
     "output_type": "stream",
     "text": [
      "[0.01783469 0.48342394 0.54079304 0.40978292 0.62808175 0.01856403\n",
      " 0.00573353 0.00907679 0.4664146  0.48881637 0.01795511 0.21178629\n",
      " 0.48691714 0.46384578 0.13728875 0.16885899 0.2233305  0.18418964\n",
      " 0.04512953 0.09526656 0.46074638 0.43383682 0.11782641 0.03349737\n",
      " 0.01956317 0.30194419 0.07166836 0.06885448 0.02215297 0.04783945\n",
      " 0.03958405 0.18940914 0.0865555  0.44417612 0.43768574 0.01491381\n",
      " 0.15461181 0.2903617  0.66216157 0.24660206 0.109815   0.51447067\n",
      " 0.07518265 0.08343032 0.41541809 0.47016685 0.08089805 0.02289235\n",
      " 0.10942744 0.49592259 0.01143556 0.2937687  0.20767677 0.57411719\n",
      " 0.0133129  0.11710081 0.09336512 0.01526676 0.02240929 0.05490463\n",
      " 0.020184   0.03350593 0.63323608 0.24803401 0.48194796 0.66419022\n",
      " 0.1884112  0.42370524 0.21274992 0.01386798 0.78142105 0.23481476\n",
      " 0.48288442 0.05048309 0.01317446 0.29302866 0.24919555 0.25635427\n",
      " 0.02858468 0.05726646 0.0370521  0.01469451 0.03997546 0.00944542\n",
      " 0.40976235 0.02386861 0.04019497 0.00463521 0.59112589 0.47404022\n",
      " 0.24170906 0.00672203 0.37726359 0.10403    0.34088206 0.38174715\n",
      " 0.21804684 0.52642817 0.10480707 0.00709002 0.11575506 0.63483003\n",
      " 0.02364042 0.07638678 0.61501818 0.01706285 0.02274117 0.48381534\n",
      " 0.29818902 0.11817629 0.03775057 0.38839636 0.10929452 0.09544453\n",
      " 0.10876217 0.06222647 0.34876278 0.16479581 0.04640654 0.38280581\n",
      " 0.36564135 0.27915664 0.42881725 0.06641171 0.11793771 0.00888669\n",
      " 0.11819299 0.63868597 0.07525687 0.37014167 0.05425791 0.22302791\n",
      " 0.32851379 0.57338095 0.36904872 0.48778734 0.07191364 0.34173094\n",
      " 0.19514287 0.43138033 0.02991074 0.00895584 0.61434216 0.07966746\n",
      " 0.25540214 0.01608894 0.46582846 0.05814036 0.04400403 0.14254401\n",
      " 0.02250062 0.01202488 0.34814363 0.07926555 0.64827168 0.3874254\n",
      " 0.13271751 0.01508989 0.21169918 0.04759143 0.14885494 0.05936388\n",
      " 0.05357434 0.09490179 0.11671627 0.33982819 0.19996031 0.08670652\n",
      " 0.08245514 0.4242948  0.0964119  0.14040963 0.15340998 0.18464095\n",
      " 0.02193251 0.04575542 0.04382742 0.68750034 0.01574402 0.00591903\n",
      " 0.02737044 0.1217047  0.65679163 0.26935482 0.05718832 0.17181188\n",
      " 0.02677117 0.16705611 0.01679015 0.0256355  0.62043622 0.01764518\n",
      " 0.16327942 0.29304286 0.03890813 0.01591163 0.01060292 0.36177486\n",
      " 0.13586403 0.02234881 0.00582523 0.13427007 0.05126122 0.02823013\n",
      " 0.18756796 0.16961273 0.09930849 0.50750815 0.09207776 0.07243036\n",
      " 0.01128643 0.03800656 0.00420588 0.0479951  0.00894433 0.06827263\n",
      " 0.0101189  0.35328265 0.33934234 0.4327164  0.01505365 0.05230784\n",
      " 0.08157391 0.05169356 0.29268323 0.17902905 0.69454418 0.10523171\n",
      " 0.46465629 0.39199698 0.51817448 0.0290104  0.23156593 0.40651223\n",
      " 0.07697563 0.04294807 0.28639905 0.0260379  0.01729175 0.25416943\n",
      " 0.6298635  0.07235925 0.04292086 0.006755   0.36293899 0.01126891\n",
      " 0.11827577 0.01296613 0.14603058 0.02219848 0.36565234 0.02710406\n",
      " 0.12840466 0.032332   0.15107962 0.10588205 0.01922249 0.08888112\n",
      " 0.1400952  0.62119552 0.07588494 0.20339058 0.00990584 0.03818813\n",
      " 0.10163346 0.01932725 0.23424635 0.23409414 0.05819446 0.35089682\n",
      " 0.13579728 0.40145894 0.37569242 0.09063721 0.28322459 0.11484467\n",
      " 0.09053729 0.01603865 0.36361502 0.05421784 0.0117574  0.04472732\n",
      " 0.45903219 0.01944975 0.64934972 0.04828843 0.5323381  0.01992219\n",
      " 0.06614006 0.38012114 0.20837408 0.32108585 0.08923654 0.00534172\n",
      " 0.02712668 0.01846374 0.56929481 0.5807597  0.38657962 0.01628586\n",
      " 0.43856044 0.43047411 0.1172009  0.04146891 0.0064297  0.66090808\n",
      " 0.28372639 0.04135752 0.25107649 0.4310162  0.03078594 0.03652055\n",
      " 0.17569154 0.05118372 0.01189031 0.06978757 0.21664098 0.00648342\n",
      " 0.23050571 0.27756889 0.01125427 0.00521733 0.01784978 0.07898755\n",
      " 0.21613294 0.5760419  0.48622787 0.38397532 0.03123615 0.02113428\n",
      " 0.00746273 0.5231562  0.05252787 0.07875104 0.02113252 0.02403011\n",
      " 0.54711568 0.18316805 0.10379839 0.33568781 0.01006428 0.1768706\n",
      " 0.03442284 0.16012036 0.32964712 0.24034336 0.02912978 0.02554277\n",
      " 0.52647329 0.02753504 0.10945441 0.01432557 0.03674065 0.21040881\n",
      " 0.53832072 0.40231293 0.07127688 0.09128504 0.13852771 0.4435324\n",
      " 0.00859197 0.09252471 0.10900744 0.09017307 0.01712898 0.09003001\n",
      " 0.41268314 0.07625484 0.05488714 0.58311524 0.06549397 0.14300265\n",
      " 0.00989526 0.01335448 0.03696746 0.42257778 0.01546674 0.50675961\n",
      " 0.53520596 0.01479603 0.51578311 0.02589627 0.43738262 0.41143382\n",
      " 0.01321323 0.01625869 0.40792039 0.12870247 0.24786915 0.11638642\n",
      " 0.0110419  0.16502069 0.36329922 0.12203179 0.02204858 0.05339061\n",
      " 0.41079628 0.16818732 0.05159131 0.01421057 0.0735206  0.06997519\n",
      " 0.01092779 0.01892408 0.47419839 0.02616617 0.01538284 0.04329606\n",
      " 0.11001643 0.37705392 0.12806207 0.24104998 0.13779876 0.21553213\n",
      " 0.06388253 0.02360264 0.01031493 0.00674399 0.02130678 0.01153837\n",
      " 0.02225979 0.11330962 0.02355349 0.0152176  0.35579627 0.01769351\n",
      " 0.03260667 0.5798796  0.01879122 0.01213422 0.27250816 0.10921379\n",
      " 0.04790131 0.03562022 0.4724538  0.06554903 0.07938169 0.18033635\n",
      " 0.01789853 0.02946697 0.58941749 0.04773078 0.11580985 0.00762625\n",
      " 0.50168119 0.07477613 0.5673994  0.52041809 0.078028   0.00629086\n",
      " 0.13981215 0.17968963 0.57299926 0.0196932  0.03951676 0.10708021\n",
      " 0.43325927 0.10671448 0.03268352 0.01907749 0.09854132 0.29170283\n",
      " 0.03869019 0.03735484 0.12620572 0.30487692 0.01043144 0.0174733\n",
      " 0.01017398 0.29319513 0.38844148 0.04547823 0.32248274 0.00605137\n",
      " 0.2440693  0.07633407 0.33504751 0.48850003 0.03617337 0.03088552\n",
      " 0.04735617 0.06733482 0.09449196 0.09561241 0.0658633  0.01073438\n",
      " 0.01877894 0.04654948 0.24901297 0.401631   0.07252212 0.07068144\n",
      " 0.26238589 0.02285999 0.18736491 0.02583952 0.03033053 0.00580582\n",
      " 0.04643265 0.04769844 0.38237042 0.38241972 0.08280852 0.17418989\n",
      " 0.09143171 0.50901461 0.04603529 0.08514188 0.02505858 0.16041539\n",
      " 0.01889046 0.36176783 0.06827674 0.12555324 0.04637837 0.03941818\n",
      " 0.14377599 0.04917805 0.55210185 0.05654204 0.38010503 0.01010408\n",
      " 0.09927709 0.06989715 0.24939555 0.1678893  0.15427217 0.02074734\n",
      " 0.39818133 0.01728184 0.01404637 0.56375498 0.01615206 0.06957616\n",
      " 0.54412394 0.26204853 0.19961142 0.50861439 0.04924047 0.01883281\n",
      " 0.0143354  0.2635141  0.38052682 0.23756241 0.09194459 0.01373725\n",
      " 0.16675983 0.07579233 0.01864169 0.02169503 0.5534121  0.09112979\n",
      " 0.23683935 0.455755   0.47796726 0.0288073  0.16728913 0.83044788\n",
      " 0.08757302 0.282651   0.21120988 0.02234985 0.04359954 0.14150429\n",
      " 0.10881021 0.31696156 0.12444784 0.0077888  0.0179936  0.14851509\n",
      " 0.33496979 0.38005805 0.25679449 0.05077208 0.14557864 0.22575067\n",
      " 0.23845466 0.04243826 0.04563163 0.40348502 0.04360635 0.27263815\n",
      " 0.05752359 0.11349657 0.04673977 0.19581416 0.01490201 0.07544999\n",
      " 0.15074009 0.02843804 0.1850736  0.02359995 0.09737323 0.00991993\n",
      " 0.43326659 0.44197824 0.00677216 0.43226121 0.05609222 0.35059122\n",
      " 0.25422558 0.11442484 0.03956983 0.06272046 0.17451545 0.07450539\n",
      " 0.05956599 0.12335417 0.09318282 0.03439946 0.05731224 0.36049493\n",
      " 0.0763356  0.60050599 0.53097025 0.03146663 0.08087242 0.26908554\n",
      " 0.0482557  0.04528434 0.09851956 0.19905092 0.41306789 0.17503039\n",
      " 0.41976216 0.20210293 0.10189113 0.47635033 0.22336743 0.01938012\n",
      " 0.51642987 0.117104   0.00754955 0.00633606 0.46865366 0.22564084\n",
      " 0.21395156 0.28540279 0.00925943 0.01721912 0.0048596  0.04467287\n",
      " 0.3468447  0.03127257 0.12933009 0.30012283 0.03317987 0.50877103\n",
      " 0.10767945 0.00704115 0.02262969 0.01951446 0.02116173 0.05183068\n",
      " 0.01245339 0.16348974 0.11560235 0.15206896 0.05522519 0.05354302\n",
      " 0.02479271 0.01012644 0.13332438 0.09053852 0.0270695  0.63116908\n",
      " 0.33606249 0.04261657 0.34028197 0.02752141 0.33654736 0.29879655\n",
      " 0.29381788 0.22433987 0.34200977 0.42143934 0.31035524 0.1997922\n",
      " 0.2624325  0.08919518 0.05347809 0.38042092 0.02934767 0.39251225\n",
      " 0.15499436 0.04003022 0.64832673 0.66615805 0.0093343  0.01633912\n",
      " 0.03393613 0.11227825 0.43821053 0.1719739  0.35952356 0.52889297\n",
      " 0.67803857 0.08712297 0.04760177 0.16110625 0.02256859 0.22019866\n",
      " 0.27755997 0.41901994 0.21567092 0.42074867 0.18315958 0.17181855\n",
      " 0.08632897 0.15334096 0.06418216 0.16928363 0.02915427 0.07232153\n",
      " 0.0195362  0.36150482 0.28841408 0.03490297 0.34636413 0.49817219\n",
      " 0.09279359 0.4391074  0.41625878 0.4098712  0.04011741 0.09743479\n",
      " 0.22391182 0.08272754 0.00601226 0.05225815 0.04051756 0.02473355\n",
      " 0.15086303 0.29332186 0.09929886 0.65698566 0.35821384 0.3101171\n",
      " 0.04871859 0.228182   0.29986942 0.30725368 0.29756116 0.008577\n",
      " 0.07563341 0.29512319 0.09694331 0.33994625 0.08642805 0.11608219\n",
      " 0.07432144 0.13652877 0.38923898 0.03868513 0.31120682 0.00764516\n",
      " 0.01579879 0.02832071 0.01929678 0.26210541 0.05678903 0.3994839\n",
      " 0.53729647 0.18941197 0.47383622 0.13256045 0.04662377 0.01043283\n",
      " 0.10245643 0.0512989  0.00659397 0.13909621 0.02116703 0.55762207\n",
      " 0.21548531 0.39326907 0.10026545 0.02434745 0.10551061 0.75041653\n",
      " 0.04698021 0.39546609 0.51660664 0.06647065 0.02854334 0.09620332\n",
      " 0.03282577 0.03243827 0.00886184 0.24610601 0.06529923 0.0247851\n",
      " 0.22930675 0.04718    0.04637121 0.39055743 0.38531841 0.31371034\n",
      " 0.03683662 0.22804098 0.18201515 0.45595916 0.09290766 0.03059285\n",
      " 0.04730347 0.08846322 0.01221918 0.36394531 0.19015692 0.02196648\n",
      " 0.47905066 0.01226564 0.08277877 0.14119518 0.05163164 0.07952573\n",
      " 0.40155293 0.02462525 0.5231993  0.29340224 0.22427891 0.00961238\n",
      " 0.02643609 0.1402648  0.70817963 0.03212441 0.02464143 0.00521651\n",
      " 0.04216346 0.00828681 0.26871679 0.22799537 0.05175429 0.21428057\n",
      " 0.68566074 0.58003564 0.06468268 0.2555972  0.0190377  0.42351687\n",
      " 0.50809867 0.24877911 0.0220492  0.0258565  0.31361294 0.02855567\n",
      " 0.12336834 0.00679281 0.37309136 0.48512372 0.02210456 0.00875378\n",
      " 0.0106649  0.32332709 0.06159435 0.01554701 0.0876276  0.04191266\n",
      " 0.0046321  0.55004655 0.18587886 0.20884484 0.0596757  0.38020225\n",
      " 0.04052956 0.40680874 0.03147846 0.02342524 0.42159569 0.04786098\n",
      " 0.52541075 0.19433059 0.04063112 0.02849612 0.39039968 0.02031219\n",
      " 0.03594673 0.01999335 0.0643011  0.19152098 0.03716296 0.00953186\n",
      " 0.02610677 0.01427256 0.07564078 0.11101126 0.23527532 0.00516718\n",
      " 0.01336865 0.01254816 0.10950226 0.2207962  0.02372956 0.43356508\n",
      " 0.00559434 0.02587551 0.34167646 0.15297048 0.59927918 0.51975461\n",
      " 0.15067758 0.02347051 0.41788446 0.36584107 0.06469208 0.11984872\n",
      " 0.65258064 0.02775707 0.00790804 0.05082644 0.19045629 0.00654392\n",
      " 0.03322493 0.08574586 0.02093265 0.01871134 0.11612207 0.15779582\n",
      " 0.25207505 0.5834697  0.10812762 0.19070375 0.04432837 0.63270842\n",
      " 0.50313477 0.53843081 0.02377864 0.02412952 0.03514347 0.01105801\n",
      " 0.29515645 0.02339203 0.17003572 0.70921222 0.25344043 0.21204468\n",
      " 0.05339101 0.23363096 0.05983431 0.46377191 0.41544866 0.09299681\n",
      " 0.26065659 0.43143487 0.04040535 0.04113791 0.12757032 0.04559232\n",
      " 0.39806862 0.06477888 0.0103035  0.02280798 0.09370101 0.01554177\n",
      " 0.01129938 0.5512464  0.05441483 0.00489624 0.16529342 0.60311448\n",
      " 0.58866454 0.27351569 0.42178559 0.10612025 0.11134471 0.41468811\n",
      " 0.05150533 0.56073955 0.10383939 0.01686381 0.18036376 0.56305507\n",
      " 0.01360478 0.10679074 0.0390053  0.21618601 0.0707963  0.18904308\n",
      " 0.05264907 0.03798342]\n"
     ]
    }
   ],
   "source": [
    "print(model_t.pred())"
   ]
  },
  {
   "attachments": {},
   "cell_type": "markdown",
   "metadata": {},
   "source": [
    "## sklearn"
   ]
  },
  {
   "cell_type": "code",
   "execution_count": 14,
   "metadata": {},
   "outputs": [
    {
     "name": "stdout",
     "output_type": "stream",
     "text": [
      "[[ 0.10560764  0.07678457  0.3791464   0.28467147 -0.31170381  0.0230044\n",
      "   0.00456643  0.00954688  0.51326072]]\n",
      "[ 1.21339755e-01  7.59120872e-02  4.02132804e-01  3.14247995e-01\n",
      " -2.91553630e-01  2.31303662e-02  4.40506612e-03  9.28293219e-03\n",
      "  5.29407935e-01 -6.88034684e+00]\n"
     ]
    },
    {
     "name": "stderr",
     "output_type": "stream",
     "text": [
      "/Users/qiaojiamu/opt/anaconda3/lib/python3.9/site-packages/sklearn/linear_model/_logistic.py:814: ConvergenceWarning: lbfgs failed to converge (status=1):\n",
      "STOP: TOTAL NO. of ITERATIONS REACHED LIMIT.\n",
      "\n",
      "Increase the number of iterations (max_iter) or scale the data as shown in:\n",
      "    https://scikit-learn.org/stable/modules/preprocessing.html\n",
      "Please also refer to the documentation for alternative solver options:\n",
      "    https://scikit-learn.org/stable/modules/linear_model.html#logistic-regression\n",
      "  n_iter_i = _check_optimize_result(\n"
     ]
    }
   ],
   "source": [
    "from sklearn.linear_model import LogisticRegression\n",
    "\n",
    "model_sk = LogisticRegression().fit(X.values[:,:-1], Y)\n",
    "print(model_sk.coef_)\n",
    "print(model_t.params)"
   ]
  },
  {
   "cell_type": "code",
   "execution_count": 15,
   "metadata": {},
   "outputs": [
    {
     "name": "stdout",
     "output_type": "stream",
     "text": [
      "[-357.37414165]\n",
      "0.823469387755102\n"
     ]
    }
   ],
   "source": [
    "Y_pred_sk = pd.DataFrame(data=model_sk.predict_proba(X.values[:, :-1])[:, 1])\n",
    "log_likelihood_sk = np.dot(Y, np.log(Y_pred_sk)) + np.dot((1 - Y), np.log(1 - Y_pred_sk))\n",
    "print(log_likelihood_sk)\n",
    "print(model_sk.score(X.values[:, :-1], Y))"
   ]
  },
  {
   "cell_type": "code",
   "execution_count": 16,
   "metadata": {},
   "outputs": [
    {
     "data": {
      "text/plain": [
       "<matplotlib.collections.PathCollection at 0x7fb1100550a0>"
      ]
     },
     "execution_count": 16,
     "metadata": {},
     "output_type": "execute_result"
    },
    {
     "data": {
      "image/png": "[encoded data removed]",
      "text/plain": [
       "<Figure size 640x480 with 1 Axes>"
      ]
     },
     "metadata": {},
     "output_type": "display_data"
    }
   ],
   "source": [
    "plt.scatter(model_t.pred(), Y_pred_sk)"
   ]
  }
 ],
 "metadata": {
  "kernelspec": {
   "display_name": "base",
   "language": "python",
   "name": "python3"
  },
  "language_info": {
   "codemirror_mode": {
    "name": "ipython",
    "version": 3
   },
   "file_extension": ".py",
   "mimetype": "text/x-python",
   "name": "python",
   "nbconvert_exporter": "python",
   "pygments_lexer": "ipython3",
   "version": "3.9.13"
  }
 },
 "nbformat": 4,
 "nbformat_minor": 4
}
