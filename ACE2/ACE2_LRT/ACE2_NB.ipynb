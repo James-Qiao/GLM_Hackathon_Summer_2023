{
 "cells": [
  {
   "cell_type": "code",
   "execution_count": 1,
   "metadata": {},
   "outputs": [],
   "source": [
    "import numpy as np\n",
    "import pandas as pd\n",
    "import matplotlib.pyplot as plt\n",
    "import scipy as sp\n",
    "from statsmodels.discrete.discrete_model import NegativeBinomial"
   ]
  },
  {
   "cell_type": "code",
   "execution_count": 2,
   "metadata": {},
   "outputs": [],
   "source": [
    "import NegativeBinomial as NB"
   ]
  },
  {
   "attachments": {},
   "cell_type": "markdown",
   "metadata": {},
   "source": [
    "load data"
   ]
  },
  {
   "cell_type": "code",
   "execution_count": 3,
   "metadata": {},
   "outputs": [],
   "source": [
    "df = pd.read_csv('size_condition_data.csv', index_col=0)"
   ]
  },
  {
   "cell_type": "code",
   "execution_count": 4,
   "metadata": {},
   "outputs": [
    {
     "name": "stderr",
     "output_type": "stream",
     "text": [
      "/Users/qiaojiamu/Library/Mobile Documents/com~apple~CloudDocs/Bioinformtics/GLM_Hackathon/ACE2/ACE2_LRT/NegativeBinomial.py:7: SettingWithCopyWarning: \n",
      "A value is trying to be set on a copy of a slice from a DataFrame.\n",
      "Try using .loc[row_indexer,col_indexer] = value instead\n",
      "\n",
      "See the caveats in the documentation: https://pandas.pydata.org/pandas-docs/stable/user_guide/indexing.html#returning-a-view-versus-a-copy\n",
      "  X['const'] = 1\n",
      "/Users/qiaojiamu/Library/Mobile Documents/com~apple~CloudDocs/Bioinformtics/GLM_Hackathon/ACE2/ACE2_LRT/NegativeBinomial.py:7: SettingWithCopyWarning: \n",
      "A value is trying to be set on a copy of a slice from a DataFrame.\n",
      "Try using .loc[row_indexer,col_indexer] = value instead\n",
      "\n",
      "See the caveats in the documentation: https://pandas.pydata.org/pandas-docs/stable/user_guide/indexing.html#returning-a-view-versus-a-copy\n",
      "  X['const'] = 1\n"
     ]
    }
   ],
   "source": [
    "X0 = df[['cells_per_sample']]\n",
    "X1 = df[['cells_per_sample', 'age']]\n",
    "Y = df['cnt']\n",
    "\n",
    "X0 = NB.add_const(X0)\n",
    "X1 = NB.add_const(X1)"
   ]
  },
  {
   "attachments": {},
   "cell_type": "markdown",
   "metadata": {},
   "source": [
    "fit w"
   ]
  },
  {
   "cell_type": "code",
   "execution_count": 5,
   "metadata": {},
   "outputs": [
    {
     "name": "stderr",
     "output_type": "stream",
     "text": [
      "/Users/qiaojiamu/Library/Mobile Documents/com~apple~CloudDocs/Bioinformtics/GLM_Hackathon/ACE2/ACE2_LRT/NegativeBinomial.py:34: RuntimeWarning: overflow encountered in exp\n",
      "  mu = np.exp(np.dot(self.X, params))\n",
      "/Users/qiaojiamu/Library/Mobile Documents/com~apple~CloudDocs/Bioinformtics/GLM_Hackathon/ACE2/ACE2_LRT/NegativeBinomial.py:37: RuntimeWarning: invalid value encountered in true_divide\n",
      "  ll = np.sum(np.log((gamma(Y+phi)/((gamma(Y+1)*gamma(phi))))*((phi/(phi+mu))**phi)*((mu/(phi+mu))**Y)))\n",
      "/Users/qiaojiamu/Library/Mobile Documents/com~apple~CloudDocs/Bioinformtics/GLM_Hackathon/ACE2/ACE2_LRT/NegativeBinomial.py:34: RuntimeWarning: overflow encountered in exp\n",
      "  mu = np.exp(np.dot(self.X, params))\n",
      "/Users/qiaojiamu/Library/Mobile Documents/com~apple~CloudDocs/Bioinformtics/GLM_Hackathon/ACE2/ACE2_LRT/NegativeBinomial.py:37: RuntimeWarning: invalid value encountered in true_divide\n",
      "  ll = np.sum(np.log((gamma(Y+phi)/((gamma(Y+1)*gamma(phi))))*((phi/(phi+mu))**phi)*((mu/(phi+mu))**Y)))\n"
     ]
    },
    {
     "data": {
      "text/plain": [
       "<NegativeBinomial.NB_Reg at 0x7fb350f7a760>"
      ]
     },
     "execution_count": 5,
     "metadata": {},
     "output_type": "execute_result"
    }
   ],
   "source": [
    "NB_0 = NB.NB_Reg(X0, Y)\n",
    "NB_1 = NB.NB_Reg(X1, Y)\n",
    "NB_0.fit_w()\n",
    "NB_1.fit_w()"
   ]
  },
  {
   "cell_type": "code",
   "execution_count": 6,
   "metadata": {},
   "outputs": [
    {
     "name": "stdout",
     "output_type": "stream",
     "text": [
      "[9.30042234e-04 1.32392900e+00] 1\n",
      "[ 8.90160585e-04 -6.36970965e-01  1.60420697e+00] 1\n"
     ]
    }
   ],
   "source": [
    "print(NB_0.params, NB_0.phi)\n",
    "print(NB_1.params, NB_1.phi)"
   ]
  },
  {
   "cell_type": "code",
   "execution_count": 7,
   "metadata": {},
   "outputs": [
    {
     "name": "stdout",
     "output_type": "stream",
     "text": [
      "      fun: 46.89699218925257\n",
      " hess_inv: array([[ 6.52811232e-07, -1.76494723e-07],\n",
      "       [-1.76494723e-07,  7.86557794e-05]])\n",
      "      jac: array([6.39438629e-04, 9.53674316e-07])\n",
      "  message: 'Desired error not necessarily achieved due to precision loss.'\n",
      "     nfev: 69\n",
      "      nit: 9\n",
      "     njev: 23\n",
      "   status: 2\n",
      "  success: False\n",
      "        x: array([9.30042234e-04, 1.32392900e+00])\n",
      "      fun: 46.25654183007505\n",
      " hess_inv: array([[ 4.14526897e-07,  2.81373541e-05, -3.53104108e-04],\n",
      "       [ 2.81373541e-05,  3.15519718e-01, -1.62795560e-01],\n",
      "       [-3.53104108e-04, -1.62795560e-01,  4.37120370e-01]])\n",
      "      jac: array([ 2.31761932e-02, -9.53674316e-07, -5.00679016e-05])\n",
      "  message: 'Desired error not necessarily achieved due to precision loss.'\n",
      "     nfev: 227\n",
      "      nit: 9\n",
      "     njev: 54\n",
      "   status: 2\n",
      "  success: False\n",
      "        x: array([ 8.90160585e-04, -6.36970965e-01,  1.60420697e+00])\n"
     ]
    }
   ],
   "source": [
    "print(NB_0.optimize_record_w)\n",
    "print(NB_1.optimize_record_w)"
   ]
  },
  {
   "attachments": {},
   "cell_type": "markdown",
   "metadata": {},
   "source": [
    "fit phi"
   ]
  },
  {
   "cell_type": "code",
   "execution_count": 8,
   "metadata": {},
   "outputs": [
    {
     "data": {
      "text/plain": [
       "<NegativeBinomial.NB_Reg at 0x7fb350f7a760>"
      ]
     },
     "execution_count": 8,
     "metadata": {},
     "output_type": "execute_result"
    }
   ],
   "source": [
    "NB_0.fit_phi()\n",
    "NB_1.fit_phi()"
   ]
  },
  {
   "cell_type": "code",
   "execution_count": 9,
   "metadata": {},
   "outputs": [
    {
     "name": "stdout",
     "output_type": "stream",
     "text": [
      "      fun: 41.364383639482654\n",
      " hess_inv: array([[24.94702974]])\n",
      "      jac: array([0.])\n",
      "  message: 'Optimization terminated successfully.'\n",
      "     nfev: 24\n",
      "      nit: 11\n",
      "     njev: 12\n",
      "   status: 0\n",
      "  success: True\n",
      "        x: array([7.25528281])\n",
      "      fun: 38.23688973722855\n",
      " hess_inv: array([[347.36186487]])\n",
      "      jac: array([9.53674316e-07])\n",
      "  message: 'Optimization terminated successfully.'\n",
      "     nfev: 30\n",
      "      nit: 14\n",
      "     njev: 15\n",
      "   status: 0\n",
      "  success: True\n",
      "        x: array([17.80862167])\n"
     ]
    }
   ],
   "source": [
    "print(NB_0.optimize_record_phi)\n",
    "print(NB_1.optimize_record_phi)"
   ]
  },
  {
   "attachments": {},
   "cell_type": "markdown",
   "metadata": {},
   "source": [
    "statsmodels"
   ]
  },
  {
   "cell_type": "code",
   "execution_count": 10,
   "metadata": {},
   "outputs": [
    {
     "name": "stdout",
     "output_type": "stream",
     "text": [
      "Optimization terminated successfully.\n",
      "         Current function value: 2.757449\n",
      "         Iterations 5\n",
      "Optimization terminated successfully.\n",
      "         Current function value: 2.548987\n",
      "         Iterations 4\n"
     ]
    }
   ],
   "source": [
    "NB_S0 = NegativeBinomial(Y, X0).fit(method='newton')\n",
    "NB_S1 = NegativeBinomial(Y, X1).fit(method='newton')"
   ]
  },
  {
   "cell_type": "code",
   "execution_count": 11,
   "metadata": {},
   "outputs": [
    {
     "name": "stdout",
     "output_type": "stream",
     "text": [
      "                     NegativeBinomial Regression Results                      \n",
      "==============================================================================\n",
      "Dep. Variable:                    cnt   No. Observations:                   15\n",
      "Model:               NegativeBinomial   Df Residuals:                       13\n",
      "Method:                           MLE   Df Model:                            1\n",
      "Date:                Mon, 10 Jul 2023   Pseudo R-squ.:                 0.08289\n",
      "Time:                        14:27:12   Log-Likelihood:                -41.362\n",
      "converged:                       True   LL-Null:                       -45.100\n",
      "Covariance Type:            nonrobust   LLR p-value:                  0.006249\n",
      "====================================================================================\n",
      "                       coef    std err          z      P>|z|      [0.025      0.975]\n",
      "------------------------------------------------------------------------------------\n",
      "cells_per_sample     0.0010      0.000      3.090      0.002       0.000       0.002\n",
      "const                1.3042      0.301      4.335      0.000       0.715       1.894\n",
      "alpha                0.1375      0.095      1.444      0.149      -0.049       0.324\n",
      "====================================================================================\n"
     ]
    }
   ],
   "source": [
    "print(NB_S0.summary())"
   ]
  },
  {
   "cell_type": "code",
   "execution_count": 12,
   "metadata": {},
   "outputs": [
    {
     "name": "stdout",
     "output_type": "stream",
     "text": [
      "                     NegativeBinomial Regression Results                      \n",
      "==============================================================================\n",
      "Dep. Variable:                    cnt   No. Observations:                   15\n",
      "Model:               NegativeBinomial   Df Residuals:                       12\n",
      "Method:                           MLE   Df Model:                            2\n",
      "Date:                Mon, 10 Jul 2023   Pseudo R-squ.:                  0.1522\n",
      "Time:                        14:27:12   Log-Likelihood:                -38.235\n",
      "converged:                       True   LL-Null:                       -45.100\n",
      "Covariance Type:            nonrobust   LLR p-value:                  0.001043\n",
      "====================================================================================\n",
      "                       coef    std err          z      P>|z|      [0.025      0.975]\n",
      "------------------------------------------------------------------------------------\n",
      "cells_per_sample     0.0009      0.000      3.502      0.000       0.000       0.001\n",
      "age                 -0.6256      0.232     -2.700      0.007      -1.080      -0.171\n",
      "const                1.5897      0.276      5.752      0.000       1.048       2.131\n",
      "alpha                0.0560      0.059      0.946      0.344      -0.060       0.172\n",
      "====================================================================================\n"
     ]
    }
   ],
   "source": [
    "print(NB_S1.summary())"
   ]
  },
  {
   "cell_type": "code",
   "execution_count": 13,
   "metadata": {},
   "outputs": [
    {
     "name": "stdout",
     "output_type": "stream",
     "text": [
      "[9.30042234e-04 1.32392900e+00] [7.25528281]\n",
      "[ 8.90160585e-04 -6.36970965e-01  1.60420697e+00] [17.80862167]\n"
     ]
    }
   ],
   "source": [
    "print(NB_0.params, NB_0.phi)\n",
    "print(NB_1.params, NB_1.phi)"
   ]
  },
  {
   "cell_type": "code",
   "execution_count": 14,
   "metadata": {},
   "outputs": [
    {
     "name": "stdout",
     "output_type": "stream",
     "text": [
      "      fun: 41.364383639482654\n",
      " hess_inv: array([[24.94702974]])\n",
      "      jac: array([0.])\n",
      "  message: 'Optimization terminated successfully.'\n",
      "     nfev: 24\n",
      "      nit: 11\n",
      "     njev: 12\n",
      "   status: 0\n",
      "  success: True\n",
      "        x: array([7.25528281])\n",
      "      fun: 38.23688973722855\n",
      " hess_inv: array([[347.36186487]])\n",
      "      jac: array([9.53674316e-07])\n",
      "  message: 'Optimization terminated successfully.'\n",
      "     nfev: 30\n",
      "      nit: 14\n",
      "     njev: 15\n",
      "   status: 0\n",
      "  success: True\n",
      "        x: array([17.80862167])\n"
     ]
    }
   ],
   "source": [
    "print(NB_0.optimize_record_phi)\n",
    "print(NB_1.optimize_record_phi)"
   ]
  },
  {
   "attachments": {},
   "cell_type": "markdown",
   "metadata": {},
   "source": [
    "fit w and phi together"
   ]
  },
  {
   "cell_type": "code",
   "execution_count": 15,
   "metadata": {},
   "outputs": [],
   "source": [
    "NB_0.__init__(X0, Y)\n",
    "NB_1.__init__(X1, Y)"
   ]
  },
  {
   "cell_type": "code",
   "execution_count": 16,
   "metadata": {},
   "outputs": [
    {
     "name": "stderr",
     "output_type": "stream",
     "text": [
      "/Users/qiaojiamu/Library/Mobile Documents/com~apple~CloudDocs/Bioinformtics/GLM_Hackathon/ACE2/ACE2_LRT/NegativeBinomial.py:26: RuntimeWarning: overflow encountered in exp\n",
      "  mu = np.exp(np.dot(self.X, params_phi[:-1]))\n",
      "/Users/qiaojiamu/Library/Mobile Documents/com~apple~CloudDocs/Bioinformtics/GLM_Hackathon/ACE2/ACE2_LRT/NegativeBinomial.py:29: RuntimeWarning: invalid value encountered in true_divide\n",
      "  ll = np.sum(np.log((gamma(Y+phi)/((gamma(Y+1)*gamma(phi))))*((phi/(phi+mu))**phi)*((mu/(phi+mu))**Y)))\n"
     ]
    },
    {
     "data": {
      "text/plain": [
       "<NegativeBinomial.NB_Reg at 0x7fb350f7a760>"
      ]
     },
     "execution_count": 16,
     "metadata": {},
     "output_type": "execute_result"
    }
   ],
   "source": [
    "NB_0.fit()\n",
    "NB_1.fit()\n"
   ]
  },
  {
   "cell_type": "code",
   "execution_count": 17,
   "metadata": {},
   "outputs": [
    {
     "name": "stdout",
     "output_type": "stream",
     "text": [
      "   direc: array([[0.00000000e+00, 0.00000000e+00, 1.00000000e+00],\n",
      "       [0.00000000e+00, 1.00000000e+00, 0.00000000e+00],\n",
      "       [1.21861762e+05, 4.34974519e+04, 2.82506481e+08]])\n",
      "     fun: -0.0\n",
      " message: 'Optimization terminated successfully.'\n",
      "    nfev: 128\n",
      "     nit: 2\n",
      "  status: 0\n",
      " success: True\n",
      "       x: array([2.04831933e+09, 7.31129031e+08, 4.74852389e+12])\n",
      "   direc: array([[0.00000000e+00, 0.00000000e+00, 0.00000000e+00, 1.00000000e+00],\n",
      "       [0.00000000e+00, 1.00000000e+00, 0.00000000e+00, 0.00000000e+00],\n",
      "       [0.00000000e+00, 0.00000000e+00, 1.00000000e+00, 0.00000000e+00],\n",
      "       [1.21394098e+05, 4.34974519e+04, 4.34974519e+04, 2.82506481e+08]])\n",
      "     fun: -0.0\n",
      " message: 'Optimization terminated successfully.'\n",
      "    nfev: 152\n",
      "     nit: 2\n",
      "  status: 0\n",
      " success: True\n",
      "       x: array([2.04045857e+09, 7.31129031e+08, 7.31129031e+08, 4.74852389e+12])\n"
     ]
    }
   ],
   "source": [
    "print(NB_0.optimize_record)\n",
    "print(NB_1.optimize_record)"
   ]
  },
  {
   "attachments": {},
   "cell_type": "markdown",
   "metadata": {},
   "source": [
    "fit w and phi separately"
   ]
  },
  {
   "cell_type": "code",
   "execution_count": 18,
   "metadata": {},
   "outputs": [
    {
     "name": "stderr",
     "output_type": "stream",
     "text": [
      "/Users/qiaojiamu/Library/Mobile Documents/com~apple~CloudDocs/Bioinformtics/GLM_Hackathon/ACE2/ACE2_LRT/NegativeBinomial.py:34: RuntimeWarning: overflow encountered in exp\n",
      "  mu = np.exp(np.dot(self.X, params))\n",
      "/Users/qiaojiamu/Library/Mobile Documents/com~apple~CloudDocs/Bioinformtics/GLM_Hackathon/ACE2/ACE2_LRT/NegativeBinomial.py:37: RuntimeWarning: invalid value encountered in true_divide\n",
      "  ll = np.sum(np.log((gamma(Y+phi)/((gamma(Y+1)*gamma(phi))))*((phi/(phi+mu))**phi)*((mu/(phi+mu))**Y)))\n",
      "/Users/qiaojiamu/Library/Mobile Documents/com~apple~CloudDocs/Bioinformtics/GLM_Hackathon/ACE2/ACE2_LRT/NegativeBinomial.py:34: RuntimeWarning: overflow encountered in exp\n",
      "  mu = np.exp(np.dot(self.X, params))\n",
      "/Users/qiaojiamu/Library/Mobile Documents/com~apple~CloudDocs/Bioinformtics/GLM_Hackathon/ACE2/ACE2_LRT/NegativeBinomial.py:37: RuntimeWarning: invalid value encountered in true_divide\n",
      "  ll = np.sum(np.log((gamma(Y+phi)/((gamma(Y+1)*gamma(phi))))*((phi/(phi+mu))**phi)*((mu/(phi+mu))**Y)))\n"
     ]
    },
    {
     "name": "stdout",
     "output_type": "stream",
     "text": [
      "      fun: 41.364383639482654\n",
      " hess_inv: array([[24.94702974]])\n",
      "      jac: array([0.])\n",
      "  message: 'Optimization terminated successfully.'\n",
      "     nfev: 24\n",
      "      nit: 11\n",
      "     njev: 12\n",
      "   status: 0\n",
      "  success: True\n",
      "        x: array([7.25528281])\n",
      "      fun: 38.23688973722855\n",
      " hess_inv: array([[347.36186487]])\n",
      "      jac: array([9.53674316e-07])\n",
      "  message: 'Optimization terminated successfully.'\n",
      "     nfev: 30\n",
      "      nit: 14\n",
      "     njev: 15\n",
      "   status: 0\n",
      "  success: True\n",
      "        x: array([17.80862167])\n"
     ]
    }
   ],
   "source": [
    "NB_0.__init__(X0, Y)\n",
    "NB_1.__init__(X1, Y)\n",
    "\n",
    "NB_0.fit_w()\n",
    "NB_1.fit_w()\n",
    "NB_0.fit_phi()\n",
    "NB_1.fit_phi()\n",
    "\n",
    "print(NB_0.optimize_record_phi)\n",
    "print(NB_1.optimize_record_phi)"
   ]
  },
  {
   "attachments": {},
   "cell_type": "markdown",
   "metadata": {},
   "source": [
    "predict"
   ]
  },
  {
   "cell_type": "code",
   "execution_count": 19,
   "metadata": {},
   "outputs": [],
   "source": [
    "df['NB_0'] = NB_0.predict(X0)\n",
    "df['NB_1'] = NB_1.predict(X1)\n",
    "df['NB_S0'] = NB_S0.predict()\n",
    "df['NB_S1'] = NB_S1.predict()"
   ]
  },
  {
   "cell_type": "code",
   "execution_count": 20,
   "metadata": {},
   "outputs": [
    {
     "data": {
      "text/html": [
       "<div>\n",
       "<style scoped>\n",
       "    .dataframe tbody tr th:only-of-type {\n",
       "        vertical-align: middle;\n",
       "    }\n",
       "\n",
       "    .dataframe tbody tr th {\n",
       "        vertical-align: top;\n",
       "    }\n",
       "\n",
       "    .dataframe thead th {\n",
       "        text-align: right;\n",
       "    }\n",
       "</style>\n",
       "<table border=\"1\" class=\"dataframe\">\n",
       "  <thead>\n",
       "    <tr style=\"text-align: right;\">\n",
       "      <th></th>\n",
       "      <th>SRR</th>\n",
       "      <th>age</th>\n",
       "      <th>cnt</th>\n",
       "      <th>cells_per_sample</th>\n",
       "      <th>cnt_per_cell</th>\n",
       "      <th>NB_0</th>\n",
       "      <th>NB_1</th>\n",
       "      <th>NB_S0</th>\n",
       "      <th>NB_S1</th>\n",
       "    </tr>\n",
       "  </thead>\n",
       "  <tbody>\n",
       "    <tr>\n",
       "      <th>0</th>\n",
       "      <td>SRR8426358</td>\n",
       "      <td>1</td>\n",
       "      <td>2</td>\n",
       "      <td>398</td>\n",
       "      <td>0.005025</td>\n",
       "      <td>5.441669</td>\n",
       "      <td>3.749115</td>\n",
       "      <td>5.383417</td>\n",
       "      <td>3.754749</td>\n",
       "    </tr>\n",
       "    <tr>\n",
       "      <th>1</th>\n",
       "      <td>SRR8426359</td>\n",
       "      <td>1</td>\n",
       "      <td>7</td>\n",
       "      <td>397</td>\n",
       "      <td>0.017632</td>\n",
       "      <td>5.436610</td>\n",
       "      <td>3.745780</td>\n",
       "      <td>5.378292</td>\n",
       "      <td>3.751365</td>\n",
       "    </tr>\n",
       "    <tr>\n",
       "      <th>2</th>\n",
       "      <td>SRR8426360</td>\n",
       "      <td>0</td>\n",
       "      <td>3</td>\n",
       "      <td>695</td>\n",
       "      <td>0.004317</td>\n",
       "      <td>7.172888</td>\n",
       "      <td>9.233781</td>\n",
       "      <td>7.143506</td>\n",
       "      <td>9.174285</td>\n",
       "    </tr>\n",
       "    <tr>\n",
       "      <th>3</th>\n",
       "      <td>SRR8426361</td>\n",
       "      <td>0</td>\n",
       "      <td>9</td>\n",
       "      <td>295</td>\n",
       "      <td>0.030508</td>\n",
       "      <td>4.944577</td>\n",
       "      <td>6.467595</td>\n",
       "      <td>4.880365</td>\n",
       "      <td>6.396242</td>\n",
       "    </tr>\n",
       "    <tr>\n",
       "      <th>4</th>\n",
       "      <td>SRR8426362</td>\n",
       "      <td>1</td>\n",
       "      <td>12</td>\n",
       "      <td>1449</td>\n",
       "      <td>0.008282</td>\n",
       "      <td>14.462516</td>\n",
       "      <td>9.555135</td>\n",
       "      <td>14.648794</td>\n",
       "      <td>9.686609</td>\n",
       "    </tr>\n",
       "    <tr>\n",
       "      <th>5</th>\n",
       "      <td>SRR8426363</td>\n",
       "      <td>1</td>\n",
       "      <td>2</td>\n",
       "      <td>277</td>\n",
       "      <td>0.007220</td>\n",
       "      <td>4.862490</td>\n",
       "      <td>3.366287</td>\n",
       "      <td>4.797408</td>\n",
       "      <td>3.366628</td>\n",
       "    </tr>\n",
       "    <tr>\n",
       "      <th>6</th>\n",
       "      <td>SRR8426364</td>\n",
       "      <td>1</td>\n",
       "      <td>4</td>\n",
       "      <td>1034</td>\n",
       "      <td>0.003868</td>\n",
       "      <td>9.831511</td>\n",
       "      <td>6.603911</td>\n",
       "      <td>9.865930</td>\n",
       "      <td>6.662698</td>\n",
       "    </tr>\n",
       "    <tr>\n",
       "      <th>7</th>\n",
       "      <td>SRR8426365</td>\n",
       "      <td>0</td>\n",
       "      <td>13</td>\n",
       "      <td>1377</td>\n",
       "      <td>0.009441</td>\n",
       "      <td>13.525775</td>\n",
       "      <td>16.944751</td>\n",
       "      <td>13.677894</td>\n",
       "      <td>16.968987</td>\n",
       "    </tr>\n",
       "    <tr>\n",
       "      <th>8</th>\n",
       "      <td>SRR8426366</td>\n",
       "      <td>0</td>\n",
       "      <td>26</td>\n",
       "      <td>1245</td>\n",
       "      <td>0.020884</td>\n",
       "      <td>11.963156</td>\n",
       "      <td>15.066246</td>\n",
       "      <td>12.061956</td>\n",
       "      <td>15.064763</td>\n",
       "    </tr>\n",
       "    <tr>\n",
       "      <th>9</th>\n",
       "      <td>SRR8426367</td>\n",
       "      <td>0</td>\n",
       "      <td>9</td>\n",
       "      <td>724</td>\n",
       "      <td>0.012431</td>\n",
       "      <td>7.368982</td>\n",
       "      <td>9.475251</td>\n",
       "      <td>7.343570</td>\n",
       "      <td>9.417360</td>\n",
       "    </tr>\n",
       "    <tr>\n",
       "      <th>10</th>\n",
       "      <td>SRR8426368</td>\n",
       "      <td>0</td>\n",
       "      <td>14</td>\n",
       "      <td>1440</td>\n",
       "      <td>0.009722</td>\n",
       "      <td>14.341965</td>\n",
       "      <td>17.922165</td>\n",
       "      <td>14.523760</td>\n",
       "      <td>17.960891</td>\n",
       "    </tr>\n",
       "    <tr>\n",
       "      <th>11</th>\n",
       "      <td>SRR8426369</td>\n",
       "      <td>1</td>\n",
       "      <td>7</td>\n",
       "      <td>775</td>\n",
       "      <td>0.009032</td>\n",
       "      <td>7.726931</td>\n",
       "      <td>5.244136</td>\n",
       "      <td>7.709092</td>\n",
       "      <td>5.274982</td>\n",
       "    </tr>\n",
       "    <tr>\n",
       "      <th>12</th>\n",
       "      <td>SRR8426370</td>\n",
       "      <td>1</td>\n",
       "      <td>5</td>\n",
       "      <td>976</td>\n",
       "      <td>0.005123</td>\n",
       "      <td>9.315226</td>\n",
       "      <td>6.271608</td>\n",
       "      <td>9.335691</td>\n",
       "      <td>6.323191</td>\n",
       "    </tr>\n",
       "    <tr>\n",
       "      <th>13</th>\n",
       "      <td>SRR8426371</td>\n",
       "      <td>0</td>\n",
       "      <td>9</td>\n",
       "      <td>564</td>\n",
       "      <td>0.015957</td>\n",
       "      <td>6.350114</td>\n",
       "      <td>8.217430</td>\n",
       "      <td>6.305559</td>\n",
       "      <td>8.152114</td>\n",
       "    </tr>\n",
       "    <tr>\n",
       "      <th>14</th>\n",
       "      <td>SRR8426372</td>\n",
       "      <td>0</td>\n",
       "      <td>6</td>\n",
       "      <td>241</td>\n",
       "      <td>0.024896</td>\n",
       "      <td>4.702382</td>\n",
       "      <td>6.164060</td>\n",
       "      <td>4.635700</td>\n",
       "      <td>6.092247</td>\n",
       "    </tr>\n",
       "  </tbody>\n",
       "</table>\n",
       "</div>"
      ],
      "text/plain": [
       "           SRR  age  cnt  cells_per_sample  cnt_per_cell       NB_0  \\\n",
       "0   SRR8426358    1    2               398      0.005025   5.441669   \n",
       "1   SRR8426359    1    7               397      0.017632   5.436610   \n",
       "2   SRR8426360    0    3               695      0.004317   7.172888   \n",
       "3   SRR8426361    0    9               295      0.030508   4.944577   \n",
       "4   SRR8426362    1   12              1449      0.008282  14.462516   \n",
       "5   SRR8426363    1    2               277      0.007220   4.862490   \n",
       "6   SRR8426364    1    4              1034      0.003868   9.831511   \n",
       "7   SRR8426365    0   13              1377      0.009441  13.525775   \n",
       "8   SRR8426366    0   26              1245      0.020884  11.963156   \n",
       "9   SRR8426367    0    9               724      0.012431   7.368982   \n",
       "10  SRR8426368    0   14              1440      0.009722  14.341965   \n",
       "11  SRR8426369    1    7               775      0.009032   7.726931   \n",
       "12  SRR8426370    1    5               976      0.005123   9.315226   \n",
       "13  SRR8426371    0    9               564      0.015957   6.350114   \n",
       "14  SRR8426372    0    6               241      0.024896   4.702382   \n",
       "\n",
       "         NB_1      NB_S0      NB_S1  \n",
       "0    3.749115   5.383417   3.754749  \n",
       "1    3.745780   5.378292   3.751365  \n",
       "2    9.233781   7.143506   9.174285  \n",
       "3    6.467595   4.880365   6.396242  \n",
       "4    9.555135  14.648794   9.686609  \n",
       "5    3.366287   4.797408   3.366628  \n",
       "6    6.603911   9.865930   6.662698  \n",
       "7   16.944751  13.677894  16.968987  \n",
       "8   15.066246  12.061956  15.064763  \n",
       "9    9.475251   7.343570   9.417360  \n",
       "10  17.922165  14.523760  17.960891  \n",
       "11   5.244136   7.709092   5.274982  \n",
       "12   6.271608   9.335691   6.323191  \n",
       "13   8.217430   6.305559   8.152114  \n",
       "14   6.164060   4.635700   6.092247  "
      ]
     },
     "execution_count": 20,
     "metadata": {},
     "output_type": "execute_result"
    }
   ],
   "source": [
    "df"
   ]
  },
  {
   "attachments": {},
   "cell_type": "markdown",
   "metadata": {},
   "source": [
    "plot"
   ]
  },
  {
   "cell_type": "code",
   "execution_count": 21,
   "metadata": {},
   "outputs": [
    {
     "data": {
      "image/png": "[encoded data removed]",
      "text/plain": [
       "<Figure size 640x480 with 1 Axes>"
      ]
     },
     "metadata": {},
     "output_type": "display_data"
    }
   ],
   "source": [
    "ax1 = df.plot.scatter(x='NB_0', y='cnt', c='DarkBlue', label='NB_0', s=50)\n",
    "ax1 = df.plot.scatter(x='NB_S0', y='cnt', c='DarkOrange', ax=ax1, label='NB_S0', s=50)\n",
    "ax1 = df.plot.scatter(x='NB_1', y='cnt', c='DarkGreen', ax=ax1, label='NB_1', s=50)\n",
    "ax1 = df.plot.scatter(x='NB_S1', y='cnt', c='DarkRed', ax=ax1, label='NB_S1', s=50)\n",
    "\n",
    "reference = np.linspace(0, 25, 25)\n",
    "ax1.plot(reference, reference, c='black')\n",
    "plt.show()"
   ]
  },
  {
   "attachments": {},
   "cell_type": "markdown",
   "metadata": {},
   "source": [
    "### likelihood ratio test"
   ]
  },
  {
   "cell_type": "code",
   "execution_count": 22,
   "metadata": {},
   "outputs": [],
   "source": [
    "lr_statistic = 2 * ((-1) * NB_1.optimize_record_phi.fun - (-1) * NB_0.optimize_record_phi.fun)\n",
    "lr_statistic_S = 2 * (NB_S1.llf - NB_S0.llf)"
   ]
  },
  {
   "cell_type": "code",
   "execution_count": 23,
   "metadata": {},
   "outputs": [
    {
     "name": "stdout",
     "output_type": "stream",
     "text": [
      "6.254987804508204 0.01238441009087306\n",
      "6.253873009346108 0.012392206218859425\n"
     ]
    }
   ],
   "source": [
    "p_val = sp.stats.chi2.sf(lr_statistic, 1)\n",
    "p_val_S = sp.stats.chi2.sf(lr_statistic_S, 1)\n",
    "print(lr_statistic, p_val)\n",
    "print(lr_statistic_S, p_val_S)"
   ]
  }
 ],
 "metadata": {
  "kernelspec": {
   "display_name": "base",
   "language": "python",
   "name": "python3"
  },
  "language_info": {
   "codemirror_mode": {
    "name": "ipython",
    "version": 3
   },
   "file_extension": ".py",
   "mimetype": "text/x-python",
   "name": "python",
   "nbconvert_exporter": "python",
   "pygments_lexer": "ipython3",
   "version": "3.9.13"
  },
  "orig_nbformat": 4
 },
 "nbformat": 4,
 "nbformat_minor": 2
}
