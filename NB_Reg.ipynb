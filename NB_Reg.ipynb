{
 "cells": [
  {
   "cell_type": "code",
   "execution_count": 288,
   "metadata": {},
   "outputs": [],
   "source": [
    "import numpy as np\n",
    "import pandas as pd\n",
    "from scipy import optimize\n",
    "from scipy.special import gamma\n",
    "import matplotlib.pyplot as plt\n"
   ]
  },
  {
   "cell_type": "code",
   "execution_count": 289,
   "metadata": {},
   "outputs": [],
   "source": [
    "def add_const(X: pd.DataFrame):\n",
    "    X['const'] = 1\n",
    "    return X\n",
    "\n",
    "# negative binomial regression\n",
    "class NB_Reg():\n",
    "    def __init__(self, X, Y):\n",
    "        self.X = X\n",
    "        self.Y = Y\n",
    "        self.params = np.zeros((X.shape[1]), dtype=float)\n",
    "        # self.params[:-1] = coef\n",
    "        # self.params[-1] = phi\n",
    "        # phi = 1/alpha, dispersion parameter\n",
    "        self.phi = 1\n",
    "\n",
    "        self.optimize_record_w = []\n",
    "        self.optimize_record_phi = []\n",
    "        self.optimize_record = []\n",
    "\n",
    "    def log_likelihood(self, params_phi): #log likelihood of negative binomial distribution\n",
    "        mu = np.exp(np.dot(self.X, params_phi[:-1]))\n",
    "        phi = params_phi[-1]\n",
    "        Y = self.Y\n",
    "        ll = np.sum(np.log((gamma(Y+phi)/((gamma(Y+1)*gamma(phi))))*((phi/(phi+mu))**phi)*((mu/(phi+mu))**Y)))\n",
    "        # return negative log likelihood\n",
    "        return np.sum(ll) * -1\n",
    "    \n",
    "    def log_likelihood_w(self, params): #log likelihood of negative binomial distribution\n",
    "        mu = np.exp(np.dot(self.X, params))\n",
    "        Y = self.Y\n",
    "        phi = self.phi\n",
    "        ll = np.sum(np.log((gamma(Y+phi)/((gamma(Y+1)*gamma(phi))))*((phi/(phi+mu))**phi)*((mu/(phi+mu))**Y)))\n",
    "        # return negative log likelihood\n",
    "        return np.sum(ll) * -1\n",
    "    \n",
    "    def log_likelihood_phi(self, phi): #log likelihood of negative binomial distribution\n",
    "        mu = np.exp(np.dot(self.X, self.params))\n",
    "        Y = self.Y\n",
    "        ll = np.sum(np.log((gamma(Y+phi)/((gamma(Y+1)*gamma(phi))))*((phi/(phi+mu))**phi)*((mu/(phi+mu))**Y)))\n",
    "        # return negative log likelihood\n",
    "        return np.sum(ll) * -1\n",
    "\n",
    "    def fit_w(self):\n",
    "        w = self.params\n",
    "        w = optimize.minimize(self.log_likelihood_w, w, method='BFGS')\n",
    "        self.params = w.x\n",
    "        self.optimize_record_w = w\n",
    "        return\n",
    "\n",
    "    def fit_phi(self):\n",
    "        phi = self.phi\n",
    "        phi = optimize.minimize(self.log_likelihood_phi, phi, method='BFGS')\n",
    "        self.phi = phi.x\n",
    "        self.optimize_record_phi = phi\n",
    "        return\n",
    "    \n",
    "    def fit(self):\n",
    "        params = self.params\n",
    "        phi = self.phi\n",
    "        params_phi = np.append(params, phi)\n",
    "        bounds = [(None, None)] * len(params) + [(0, None)]\n",
    "        params_phi = optimize.minimize(self.log_likelihood, params_phi, method='powell', bounds=bounds)\n",
    "        self.params = params_phi.x[:-1]\n",
    "        self.phi = params_phi.x[-1]\n",
    "        self.optimize_record = params_phi\n",
    "        return\n",
    "    \n",
    "    def predict(self, X):\n",
    "        return np.exp(np.dot(X, self.params))"
   ]
  },
  {
   "attachments": {},
   "cell_type": "markdown",
   "metadata": {},
   "source": [
    "load salmonella data"
   ]
  },
  {
   "cell_type": "code",
   "execution_count": 290,
   "metadata": {},
   "outputs": [],
   "source": [
    "df = pd.read_csv('salmonella.csv', index_col=0)\n",
    "X = df[df.columns[:-1]]\n",
    "Y = df[df.columns[-1]]\n",
    "X['logdose+10'] = np.log(X['dose']+10)\n",
    "X = add_const(X)"
   ]
  },
  {
   "attachments": {},
   "cell_type": "markdown",
   "metadata": {},
   "source": [
    "create and fit model"
   ]
  },
  {
   "cell_type": "code",
   "execution_count": 291,
   "metadata": {},
   "outputs": [
    {
     "name": "stdout",
     "output_type": "stream",
     "text": [
      "      fun: 78.41411375414242\n",
      " hess_inv: array([[ 1.77840536e-06, -3.45694223e-04,  1.09681640e-03],\n",
      "       [-3.45694223e-04,  8.97291268e-02, -3.13207510e-01],\n",
      "       [ 1.09681640e-03, -3.13207510e-01,  1.17811972e+00]])\n",
      "      jac: array([4.75692749e-03, 1.02043152e-04, 3.14712524e-05])\n",
      "  message: 'Desired error not necessarily achieved due to precision loss.'\n",
      "     nfev: 223\n",
      "      nit: 12\n",
      "     njev: 51\n",
      "   status: 2\n",
      "  success: False\n",
      "        x: array([-9.51524699e-04,  3.05171553e-01,  2.22364842e+00])\n",
      "      fun: 62.89317568035921\n",
      " hess_inv: array([[131.46232761]])\n",
      "      jac: array([4.76837158e-07])\n",
      "  message: 'Optimization terminated successfully.'\n",
      "     nfev: 28\n",
      "      nit: 13\n",
      "     njev: 14\n",
      "   status: 0\n",
      "  success: True\n",
      "        x: array([20.46634615])\n"
     ]
    },
    {
     "name": "stderr",
     "output_type": "stream",
     "text": [
      "/var/folders/ms/kqznsr6n6934_wtng0twy8dw0000gn/T/ipykernel_46938/1056104517.py:29: RuntimeWarning: overflow encountered in exp\n",
      "  mu = np.exp(np.dot(self.X, params))\n",
      "/var/folders/ms/kqznsr6n6934_wtng0twy8dw0000gn/T/ipykernel_46938/1056104517.py:32: RuntimeWarning: invalid value encountered in true_divide\n",
      "  ll = np.sum(np.log((gamma(Y+phi)/((gamma(Y+1)*gamma(phi))))*((phi/(phi+mu))**phi)*((mu/(phi+mu))**Y)))\n",
      "/Users/qiaojiamu/opt/anaconda3/lib/python3.9/site-packages/pandas/core/arraylike.py:397: RuntimeWarning: divide by zero encountered in log\n",
      "  result = getattr(ufunc, method)(*inputs, **kwargs)\n",
      "/Users/qiaojiamu/opt/anaconda3/lib/python3.9/site-packages/scipy/optimize/_numdiff.py:576: RuntimeWarning: invalid value encountered in subtract\n",
      "  df = fun(x) - f0\n",
      "/Users/qiaojiamu/opt/anaconda3/lib/python3.9/site-packages/pandas/core/arraylike.py:397: RuntimeWarning: divide by zero encountered in log\n",
      "  result = getattr(ufunc, method)(*inputs, **kwargs)\n",
      "/Users/qiaojiamu/opt/anaconda3/lib/python3.9/site-packages/scipy/optimize/_numdiff.py:576: RuntimeWarning: invalid value encountered in subtract\n",
      "  df = fun(x) - f0\n",
      "/Users/qiaojiamu/opt/anaconda3/lib/python3.9/site-packages/pandas/core/arraylike.py:397: RuntimeWarning: divide by zero encountered in log\n",
      "  result = getattr(ufunc, method)(*inputs, **kwargs)\n"
     ]
    }
   ],
   "source": [
    "# NB_1\n",
    "NB_1 = NB_Reg(X, Y)\n",
    "NB_1.fit_w()\n",
    "NB_1.fit_phi()\n",
    "print(NB_1.optimize_record_w)\n",
    "print(NB_1.optimize_record_phi)"
   ]
  },
  {
   "cell_type": "code",
   "execution_count": 292,
   "metadata": {},
   "outputs": [
    {
     "name": "stdout",
     "output_type": "stream",
     "text": [
      "      fun: 62.89317568035921\n",
      " hess_inv: array([[1, 0, 0, 0],\n",
      "       [0, 1, 0, 0],\n",
      "       [0, 0, 1, 0],\n",
      "       [0, 0, 0, 1]])\n",
      "      jac: array([ 2.95020204e+01, -8.19244862e-01,  1.22880936e-02,  4.76837158e-07])\n",
      "  message: 'Desired error not necessarily achieved due to precision loss.'\n",
      "     nfev: 27\n",
      "      nit: 0\n",
      "     njev: 3\n",
      "   status: 2\n",
      "  success: False\n",
      "        x: array([-9.51524699e-04,  3.05171553e-01,  2.22364842e+00,  2.04663462e+01])\n"
     ]
    },
    {
     "name": "stderr",
     "output_type": "stream",
     "text": [
      "/Users/qiaojiamu/opt/anaconda3/lib/python3.9/site-packages/pandas/core/arraylike.py:397: RuntimeWarning: divide by zero encountered in log\n",
      "  result = getattr(ufunc, method)(*inputs, **kwargs)\n",
      "/Users/qiaojiamu/opt/anaconda3/lib/python3.9/site-packages/scipy/optimize/_numdiff.py:576: RuntimeWarning: invalid value encountered in subtract\n",
      "  df = fun(x) - f0\n",
      "/Users/qiaojiamu/opt/anaconda3/lib/python3.9/site-packages/pandas/core/arraylike.py:397: RuntimeWarning: divide by zero encountered in log\n",
      "  result = getattr(ufunc, method)(*inputs, **kwargs)\n"
     ]
    }
   ],
   "source": [
    "# NB_2\n",
    "NB_1.fit()\n",
    "print(NB_1.optimize_record)"
   ]
  },
  {
   "attachments": {},
   "cell_type": "markdown",
   "metadata": {},
   "source": [
    "compare with statsmodels"
   ]
  },
  {
   "cell_type": "code",
   "execution_count": 293,
   "metadata": {},
   "outputs": [],
   "source": [
    "from statsmodels.discrete.discrete_model import NegativeBinomial"
   ]
  },
  {
   "cell_type": "code",
   "execution_count": 294,
   "metadata": {},
   "outputs": [
    {
     "name": "stdout",
     "output_type": "stream",
     "text": [
      "Warning: Desired error not necessarily achieved due to precision loss.\n",
      "         Current function value: 4.390187\n",
      "         Iterations: 0\n",
      "         Function evaluations: 15\n",
      "         Gradient evaluations: 3\n",
      "                     NegativeBinomial Regression Results                      \n",
      "==============================================================================\n",
      "Dep. Variable:                      y   No. Observations:                   18\n",
      "Model:               NegativeBinomial   Df Residuals:                       15\n",
      "Method:                           MLE   Df Model:                            2\n",
      "Date:                Fri, 07 Jul 2023   Pseudo R-squ.:                 -0.1595\n",
      "Time:                        11:35:34   Log-Likelihood:                -79.023\n",
      "converged:                      False   LL-Null:                       -68.153\n",
      "Covariance Type:            nonrobust   LLR p-value:                     1.000\n",
      "==============================================================================\n",
      "                 coef    std err          z      P>|z|      [0.025      0.975]\n",
      "------------------------------------------------------------------------------\n",
      "dose          -0.0010        nan        nan        nan         nan         nan\n",
      "logdose+10     0.3198        nan        nan        nan         nan         nan\n",
      "const          2.1728        nan        nan        nan         nan         nan\n",
      "alpha          1.0667        nan        nan        nan         nan         nan\n",
      "==============================================================================\n"
     ]
    },
    {
     "name": "stderr",
     "output_type": "stream",
     "text": [
      "/Users/qiaojiamu/opt/anaconda3/lib/python3.9/site-packages/statsmodels/discrete/discrete_model.py:866: RuntimeWarning: overflow encountered in exp\n",
      "  return np.exp(linpred) # not cdf\n",
      "/Users/qiaojiamu/opt/anaconda3/lib/python3.9/site-packages/statsmodels/discrete/discrete_model.py:2651: RuntimeWarning: divide by zero encountered in log\n",
      "  llf = coeff + size*np.log(prob) + endog*np.log(1-prob)\n",
      "/Users/qiaojiamu/opt/anaconda3/lib/python3.9/site-packages/statsmodels/discrete/discrete_model.py:2742: RuntimeWarning: invalid value encountered in true_divide\n",
      "  dparams = exog*a1 * (y-mu)/(mu+a1)\n",
      "/Users/qiaojiamu/opt/anaconda3/lib/python3.9/site-packages/statsmodels/discrete/discrete_model.py:2745: RuntimeWarning: invalid value encountered in true_divide\n",
      "  - np.log(a1+mu) - (y-mu)/(a1+mu)).sum() * da1\n",
      "/Users/qiaojiamu/opt/anaconda3/lib/python3.9/site-packages/statsmodels/discrete/discrete_model.py:866: RuntimeWarning: overflow encountered in exp\n",
      "  return np.exp(linpred) # not cdf\n",
      "/Users/qiaojiamu/opt/anaconda3/lib/python3.9/site-packages/statsmodels/discrete/discrete_model.py:2651: RuntimeWarning: divide by zero encountered in log\n",
      "  llf = coeff + size*np.log(prob) + endog*np.log(1-prob)\n",
      "/Users/qiaojiamu/opt/anaconda3/lib/python3.9/site-packages/statsmodels/base/model.py:592: HessianInversionWarning: Inverting hessian failed, no bse or cov_params available\n",
      "  warnings.warn('Inverting hessian failed, no bse or cov_params '\n",
      "/Users/qiaojiamu/opt/anaconda3/lib/python3.9/site-packages/statsmodels/base/model.py:604: ConvergenceWarning: Maximum Likelihood optimization failed to converge. Check mle_retvals\n",
      "  warnings.warn(\"Maximum Likelihood optimization failed to \"\n"
     ]
    }
   ],
   "source": [
    "# NB_S1\n",
    "NB_S1 = NegativeBinomial(Y, X).fit()\n",
    "print(NB_S1.summary())"
   ]
  },
  {
   "cell_type": "code",
   "execution_count": 295,
   "metadata": {},
   "outputs": [
    {
     "name": "stdout",
     "output_type": "stream",
     "text": [
      "Warning: Desired error not necessarily achieved due to precision loss.\n",
      "         Current function value: 4.356409\n",
      "         Iterations: 0\n",
      "         Function evaluations: 15\n",
      "         Gradient evaluations: 3\n",
      "                     NegativeBinomial Regression Results                      \n",
      "==============================================================================\n",
      "Dep. Variable:                      y   No. Observations:                   18\n",
      "Model:               NegativeBinomial   Df Residuals:                       15\n",
      "Method:                           MLE   Df Model:                            2\n",
      "Date:                Fri, 07 Jul 2023   Pseudo R-squ.:                0.007222\n",
      "Time:                        11:35:34   Log-Likelihood:                -78.415\n",
      "converged:                      False   LL-Null:                       -78.986\n",
      "Covariance Type:            nonrobust   LLR p-value:                    0.5653\n",
      "==============================================================================\n",
      "                 coef    std err          z      P>|z|      [0.025      0.975]\n",
      "------------------------------------------------------------------------------\n",
      "dose          -0.0010      0.001     -0.760      0.448      -0.004       0.002\n",
      "logdose+10     0.3198      0.297      1.079      0.281      -0.261       0.901\n",
      "const          2.1728      1.067      2.036      0.042       0.081       4.264\n",
      "==============================================================================\n"
     ]
    },
    {
     "name": "stderr",
     "output_type": "stream",
     "text": [
      "/Users/qiaojiamu/opt/anaconda3/lib/python3.9/site-packages/statsmodels/discrete/discrete_model.py:866: RuntimeWarning: overflow encountered in exp\n",
      "  return np.exp(linpred) # not cdf\n",
      "/Users/qiaojiamu/opt/anaconda3/lib/python3.9/site-packages/statsmodels/discrete/discrete_model.py:2651: RuntimeWarning: divide by zero encountered in log\n",
      "  llf = coeff + size*np.log(prob) + endog*np.log(1-prob)\n",
      "/Users/qiaojiamu/opt/anaconda3/lib/python3.9/site-packages/statsmodels/discrete/discrete_model.py:2712: RuntimeWarning: invalid value encountered in true_divide\n",
      "  dparams = exog * (y-mu)/(mu+1)\n",
      "/Users/qiaojiamu/opt/anaconda3/lib/python3.9/site-packages/statsmodels/discrete/discrete_model.py:866: RuntimeWarning: overflow encountered in exp\n",
      "  return np.exp(linpred) # not cdf\n",
      "/Users/qiaojiamu/opt/anaconda3/lib/python3.9/site-packages/statsmodels/discrete/discrete_model.py:2651: RuntimeWarning: divide by zero encountered in log\n",
      "  llf = coeff + size*np.log(prob) + endog*np.log(1-prob)\n",
      "/Users/qiaojiamu/opt/anaconda3/lib/python3.9/site-packages/statsmodels/base/model.py:604: ConvergenceWarning: Maximum Likelihood optimization failed to converge. Check mle_retvals\n",
      "  warnings.warn(\"Maximum Likelihood optimization failed to \"\n"
     ]
    }
   ],
   "source": [
    "# NB_S2\n",
    "NB_S2 = NegativeBinomial(Y, X, loglike_method='geometric').fit()\n",
    "print(NB_S2.summary())"
   ]
  },
  {
   "cell_type": "code",
   "execution_count": 296,
   "metadata": {},
   "outputs": [
    {
     "name": "stdout",
     "output_type": "stream",
     "text": [
      "Optimization terminated successfully.\n",
      "         Current function value: 3.784778\n",
      "         Iterations 6\n",
      "                          Poisson Regression Results                          \n",
      "==============================================================================\n",
      "Dep. Variable:                      y   No. Observations:                   18\n",
      "Model:                        Poisson   Df Residuals:                       15\n",
      "Method:                           MLE   Df Model:                            2\n",
      "Date:                Fri, 07 Jul 2023   Pseudo R-squ.:                  0.2027\n",
      "Time:                        11:35:34   Log-Likelihood:                -68.126\n",
      "converged:                       True   LL-Null:                       -85.447\n",
      "Covariance Type:            nonrobust   LLR p-value:                 3.003e-08\n",
      "==============================================================================\n",
      "                 coef    std err          z      P>|z|      [0.025      0.975]\n",
      "------------------------------------------------------------------------------\n",
      "dose          -0.0010      0.000     -4.131      0.000      -0.001      -0.001\n",
      "logdose+10     0.3198      0.057      5.611      0.000       0.208       0.432\n",
      "const          2.1728      0.218      9.947      0.000       1.745       2.601\n",
      "==============================================================================\n"
     ]
    }
   ],
   "source": [
    "# Poisson\n",
    "from statsmodels.discrete.discrete_model import Poisson\n",
    "Pois = Poisson(Y, X).fit()\n",
    "print(Pois.summary())"
   ]
  },
  {
   "attachments": {},
   "cell_type": "markdown",
   "metadata": {},
   "source": [
    "predict Y"
   ]
  },
  {
   "cell_type": "code",
   "execution_count": 297,
   "metadata": {},
   "outputs": [],
   "source": [
    "y_NB = NB_1.predict(X)\n",
    "y_NB_S1 = NB_S1.predict(X)\n",
    "y_NB_S2 = NB_S2.predict(X)\n",
    "y_Pois = Pois.predict(X)\n",
    "df_Y = pd.DataFrame({'Y': Y, 'NB': y_NB, 'NB_S1': y_NB_S1, 'NB_S2': y_NB_S2, 'Pois': y_Pois})"
   ]
  },
  {
   "attachments": {},
   "cell_type": "markdown",
   "metadata": {},
   "source": [
    "plot Y vs predeicted y"
   ]
  },
  {
   "cell_type": "code",
   "execution_count": 298,
   "metadata": {},
   "outputs": [
    {
     "data": {
      "text/plain": [
       "[<matplotlib.lines.Line2D at 0x7fbd59c2c190>]"
      ]
     },
     "execution_count": 298,
     "metadata": {},
     "output_type": "execute_result"
    },
    {
     "data": {
      "image/png": "[encoded data removed]",
      "text/plain": [
       "<Figure size 640x480 with 1 Axes>"
      ]
     },
     "metadata": {},
     "output_type": "display_data"
    }
   ],
   "source": [
    "ax1 = df_Y.plot.scatter(x='NB_S1', y='Y', c='DarkBlue', label='stats', s=50)\n",
    "ax1 = df_Y.plot.scatter(x='NB_S2', y='Y', c='DarkGreen', ax=ax1, label='stats_fix', s=50)\n",
    "ax1 = df_Y.plot.scatter(x='NB', y='Y', c='DarkRed', ax=ax1, label='NB', s=50)\n",
    "reference = np.linspace(0, 50, 50)\n",
    "ax1.plot(reference, reference, c='black')\n"
   ]
  },
  {
   "attachments": {},
   "cell_type": "markdown",
   "metadata": {},
   "source": [
    "compare with poisson"
   ]
  },
  {
   "cell_type": "code",
   "execution_count": 299,
   "metadata": {},
   "outputs": [
    {
     "data": {
      "text/plain": [
       "[<matplotlib.lines.Line2D at 0x7fbd59d62ca0>]"
      ]
     },
     "execution_count": 299,
     "metadata": {},
     "output_type": "execute_result"
    },
    {
     "data": {
      "image/png": "[encoded data removed]",
      "text/plain": [
       "<Figure size 640x480 with 1 Axes>"
      ]
     },
     "metadata": {},
     "output_type": "display_data"
    }
   ],
   "source": [
    "ax1 = df_Y.plot.scatter(x='NB_S1', y='Y', c='DarkBlue', label='stats', s=50)\n",
    "ax1 = df_Y.plot.scatter(x='NB', y='Y', c='DarkRed', ax=ax1, label='NB', s=50)\n",
    "ax1 = df_Y.plot.scatter(x='Pois', y='Y', c='DarkOrange', ax=ax1, label='stats_poisson', s=50)\n",
    "reference = np.linspace(0, 50, 50)\n",
    "ax1.plot(reference, reference, c='black')"
   ]
  }
 ],
 "metadata": {
  "kernelspec": {
   "display_name": "base",
   "language": "python",
   "name": "python3"
  },
  "language_info": {
   "codemirror_mode": {
    "name": "ipython",
    "version": 3
   },
   "file_extension": ".py",
   "mimetype": "text/x-python",
   "name": "python",
   "nbconvert_exporter": "python",
   "pygments_lexer": "ipython3",
   "version": "3.9.13"
  },
  "orig_nbformat": 4
 },
 "nbformat": 4,
 "nbformat_minor": 2
}
